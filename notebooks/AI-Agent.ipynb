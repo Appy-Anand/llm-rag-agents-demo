{
 "cells": [
  {
   "cell_type": "code",
   "id": "initial_id",
   "metadata": {
    "collapsed": true,
    "ExecuteTime": {
     "end_time": "2025-07-28T09:01:25.665131Z",
     "start_time": "2025-07-28T09:01:14.257874Z"
    }
   },
   "source": "%pip install langchain-google-genai",
   "outputs": [
    {
     "name": "stdout",
     "output_type": "stream",
     "text": [
      "Collecting langchain-google-genai\r\n",
      "  Obtaining dependency information for langchain-google-genai from https://files.pythonhosted.org/packages/a9/cb/8fa53aa0837b366496e3b97527682aa41cb4825dea8c2464591eddd2f508/langchain_google_genai-2.1.8-py3-none-any.whl.metadata\r\n",
      "  Downloading langchain_google_genai-2.1.8-py3-none-any.whl.metadata (7.0 kB)\r\n",
      "Collecting filetype<2.0.0,>=1.2.0 (from langchain-google-genai)\r\n",
      "  Obtaining dependency information for filetype<2.0.0,>=1.2.0 from https://files.pythonhosted.org/packages/18/79/1b8fa1bb3568781e84c9200f951c735f3f157429f44be0495da55894d620/filetype-1.2.0-py2.py3-none-any.whl.metadata\r\n",
      "  Downloading filetype-1.2.0-py2.py3-none-any.whl.metadata (6.5 kB)\r\n",
      "Collecting google-ai-generativelanguage<0.7.0,>=0.6.18 (from langchain-google-genai)\r\n",
      "  Obtaining dependency information for google-ai-generativelanguage<0.7.0,>=0.6.18 from https://files.pythonhosted.org/packages/e5/77/ca2889903a2d93b3072a49056d48b3f55410219743e338a1d7f94dc6455e/google_ai_generativelanguage-0.6.18-py3-none-any.whl.metadata\r\n",
      "  Downloading google_ai_generativelanguage-0.6.18-py3-none-any.whl.metadata (9.8 kB)\r\n",
      "Requirement already satisfied: langchain-core<0.4.0,>=0.3.68 in /Users/aprajita/Desktop/LLM_RAG/local-rag-system/.venv/lib/python3.9/site-packages (from langchain-google-genai) (0.3.72)\r\n",
      "Requirement already satisfied: pydantic<3,>=2 in /Users/aprajita/Desktop/LLM_RAG/local-rag-system/.venv/lib/python3.9/site-packages (from langchain-google-genai) (2.11.7)\r\n",
      "Collecting google-api-core[grpc]!=2.0.*,!=2.1.*,!=2.10.*,!=2.2.*,!=2.3.*,!=2.4.*,!=2.5.*,!=2.6.*,!=2.7.*,!=2.8.*,!=2.9.*,<3.0.0,>=1.34.1 (from google-ai-generativelanguage<0.7.0,>=0.6.18->langchain-google-genai)\r\n",
      "  Obtaining dependency information for google-api-core[grpc]!=2.0.*,!=2.1.*,!=2.10.*,!=2.2.*,!=2.3.*,!=2.4.*,!=2.5.*,!=2.6.*,!=2.7.*,!=2.8.*,!=2.9.*,<3.0.0,>=1.34.1 from https://files.pythonhosted.org/packages/14/4b/ead00905132820b623732b175d66354e9d3e69fcf2a5dcdab780664e7896/google_api_core-2.25.1-py3-none-any.whl.metadata\r\n",
      "  Downloading google_api_core-2.25.1-py3-none-any.whl.metadata (3.0 kB)\r\n",
      "Collecting google-auth!=2.24.0,!=2.25.0,<3.0.0,>=2.14.1 (from google-ai-generativelanguage<0.7.0,>=0.6.18->langchain-google-genai)\r\n",
      "  Obtaining dependency information for google-auth!=2.24.0,!=2.25.0,<3.0.0,>=2.14.1 from https://files.pythonhosted.org/packages/17/63/b19553b658a1692443c62bd07e5868adaa0ad746a0751ba62c59568cd45b/google_auth-2.40.3-py2.py3-none-any.whl.metadata\r\n",
      "  Downloading google_auth-2.40.3-py2.py3-none-any.whl.metadata (6.2 kB)\r\n",
      "Collecting proto-plus<2.0.0,>=1.22.3 (from google-ai-generativelanguage<0.7.0,>=0.6.18->langchain-google-genai)\r\n",
      "  Obtaining dependency information for proto-plus<2.0.0,>=1.22.3 from https://files.pythonhosted.org/packages/4e/6d/280c4c2ce28b1593a19ad5239c8b826871fc6ec275c21afc8e1820108039/proto_plus-1.26.1-py3-none-any.whl.metadata\r\n",
      "  Downloading proto_plus-1.26.1-py3-none-any.whl.metadata (2.2 kB)\r\n",
      "Requirement already satisfied: protobuf!=4.21.0,!=4.21.1,!=4.21.2,!=4.21.3,!=4.21.4,!=4.21.5,<7.0.0,>=3.20.2 in /Users/aprajita/Desktop/LLM_RAG/local-rag-system/.venv/lib/python3.9/site-packages (from google-ai-generativelanguage<0.7.0,>=0.6.18->langchain-google-genai) (5.29.5)\r\n",
      "Requirement already satisfied: langsmith>=0.3.45 in /Users/aprajita/Desktop/LLM_RAG/local-rag-system/.venv/lib/python3.9/site-packages (from langchain-core<0.4.0,>=0.3.68->langchain-google-genai) (0.4.8)\r\n",
      "Requirement already satisfied: tenacity!=8.4.0,<10.0.0,>=8.1.0 in /Users/aprajita/Desktop/LLM_RAG/local-rag-system/.venv/lib/python3.9/site-packages (from langchain-core<0.4.0,>=0.3.68->langchain-google-genai) (9.1.2)\r\n",
      "Requirement already satisfied: jsonpatch<2.0,>=1.33 in /Users/aprajita/Desktop/LLM_RAG/local-rag-system/.venv/lib/python3.9/site-packages (from langchain-core<0.4.0,>=0.3.68->langchain-google-genai) (1.33)\r\n",
      "Requirement already satisfied: PyYAML>=5.3 in /Users/aprajita/Desktop/LLM_RAG/local-rag-system/.venv/lib/python3.9/site-packages (from langchain-core<0.4.0,>=0.3.68->langchain-google-genai) (6.0.2)\r\n",
      "Requirement already satisfied: typing-extensions>=4.7 in /Users/aprajita/Desktop/LLM_RAG/local-rag-system/.venv/lib/python3.9/site-packages (from langchain-core<0.4.0,>=0.3.68->langchain-google-genai) (4.14.0)\r\n",
      "Requirement already satisfied: packaging>=23.2 in /Users/aprajita/Desktop/LLM_RAG/local-rag-system/.venv/lib/python3.9/site-packages (from langchain-core<0.4.0,>=0.3.68->langchain-google-genai) (24.2)\r\n",
      "Requirement already satisfied: annotated-types>=0.6.0 in /Users/aprajita/Desktop/LLM_RAG/local-rag-system/.venv/lib/python3.9/site-packages (from pydantic<3,>=2->langchain-google-genai) (0.7.0)\r\n",
      "Requirement already satisfied: pydantic-core==2.33.2 in /Users/aprajita/Desktop/LLM_RAG/local-rag-system/.venv/lib/python3.9/site-packages (from pydantic<3,>=2->langchain-google-genai) (2.33.2)\r\n",
      "Requirement already satisfied: typing-inspection>=0.4.0 in /Users/aprajita/Desktop/LLM_RAG/local-rag-system/.venv/lib/python3.9/site-packages (from pydantic<3,>=2->langchain-google-genai) (0.4.1)\r\n",
      "Collecting googleapis-common-protos<2.0.0,>=1.56.2 (from google-api-core[grpc]!=2.0.*,!=2.1.*,!=2.10.*,!=2.2.*,!=2.3.*,!=2.4.*,!=2.5.*,!=2.6.*,!=2.7.*,!=2.8.*,!=2.9.*,<3.0.0,>=1.34.1->google-ai-generativelanguage<0.7.0,>=0.6.18->langchain-google-genai)\r\n",
      "  Obtaining dependency information for googleapis-common-protos<2.0.0,>=1.56.2 from https://files.pythonhosted.org/packages/86/f1/62a193f0227cf15a920390abe675f386dec35f7ae3ffe6da582d3ade42c7/googleapis_common_protos-1.70.0-py3-none-any.whl.metadata\r\n",
      "  Downloading googleapis_common_protos-1.70.0-py3-none-any.whl.metadata (9.3 kB)\r\n",
      "Requirement already satisfied: requests<3.0.0,>=2.18.0 in /Users/aprajita/Desktop/LLM_RAG/local-rag-system/.venv/lib/python3.9/site-packages (from google-api-core[grpc]!=2.0.*,!=2.1.*,!=2.10.*,!=2.2.*,!=2.3.*,!=2.4.*,!=2.5.*,!=2.6.*,!=2.7.*,!=2.8.*,!=2.9.*,<3.0.0,>=1.34.1->google-ai-generativelanguage<0.7.0,>=0.6.18->langchain-google-genai) (2.32.3)\r\n",
      "Collecting grpcio<2.0.0,>=1.33.2 (from google-api-core[grpc]!=2.0.*,!=2.1.*,!=2.10.*,!=2.2.*,!=2.3.*,!=2.4.*,!=2.5.*,!=2.6.*,!=2.7.*,!=2.8.*,!=2.9.*,<3.0.0,>=1.34.1->google-ai-generativelanguage<0.7.0,>=0.6.18->langchain-google-genai)\r\n",
      "  Obtaining dependency information for grpcio<2.0.0,>=1.33.2 from https://files.pythonhosted.org/packages/1c/57/6537ace3af4c97f2b013ceff1f2e789c52b8448334ca3a0c36e7421cf6ed/grpcio-1.74.0-cp39-cp39-macosx_11_0_universal2.whl.metadata\r\n",
      "  Downloading grpcio-1.74.0-cp39-cp39-macosx_11_0_universal2.whl.metadata (3.8 kB)\r\n",
      "Collecting grpcio-status<2.0.0,>=1.33.2 (from google-api-core[grpc]!=2.0.*,!=2.1.*,!=2.10.*,!=2.2.*,!=2.3.*,!=2.4.*,!=2.5.*,!=2.6.*,!=2.7.*,!=2.8.*,!=2.9.*,<3.0.0,>=1.34.1->google-ai-generativelanguage<0.7.0,>=0.6.18->langchain-google-genai)\r\n",
      "  Obtaining dependency information for grpcio-status<2.0.0,>=1.33.2 from https://files.pythonhosted.org/packages/28/aa/1b1fe7d8ab699e1ec26d3a36b91d3df9f83a30abc07d4c881d0296b17b67/grpcio_status-1.74.0-py3-none-any.whl.metadata\r\n",
      "  Downloading grpcio_status-1.74.0-py3-none-any.whl.metadata (1.1 kB)\r\n",
      "Requirement already satisfied: cachetools<6.0,>=2.0.0 in /Users/aprajita/Desktop/LLM_RAG/local-rag-system/.venv/lib/python3.9/site-packages (from google-auth!=2.24.0,!=2.25.0,<3.0.0,>=2.14.1->google-ai-generativelanguage<0.7.0,>=0.6.18->langchain-google-genai) (5.5.2)\r\n",
      "Collecting pyasn1-modules>=0.2.1 (from google-auth!=2.24.0,!=2.25.0,<3.0.0,>=2.14.1->google-ai-generativelanguage<0.7.0,>=0.6.18->langchain-google-genai)\r\n",
      "  Obtaining dependency information for pyasn1-modules>=0.2.1 from https://files.pythonhosted.org/packages/47/8d/d529b5d697919ba8c11ad626e835d4039be708a35b0d22de83a269a6682c/pyasn1_modules-0.4.2-py3-none-any.whl.metadata\r\n",
      "  Downloading pyasn1_modules-0.4.2-py3-none-any.whl.metadata (3.5 kB)\r\n",
      "Collecting rsa<5,>=3.1.4 (from google-auth!=2.24.0,!=2.25.0,<3.0.0,>=2.14.1->google-ai-generativelanguage<0.7.0,>=0.6.18->langchain-google-genai)\r\n",
      "  Obtaining dependency information for rsa<5,>=3.1.4 from https://files.pythonhosted.org/packages/64/8d/0133e4eb4beed9e425d9a98ed6e081a55d195481b7632472be1af08d2f6b/rsa-4.9.1-py3-none-any.whl.metadata\r\n",
      "  Downloading rsa-4.9.1-py3-none-any.whl.metadata (5.6 kB)\r\n",
      "Requirement already satisfied: jsonpointer>=1.9 in /Users/aprajita/Desktop/LLM_RAG/local-rag-system/.venv/lib/python3.9/site-packages (from jsonpatch<2.0,>=1.33->langchain-core<0.4.0,>=0.3.68->langchain-google-genai) (3.0.0)\r\n",
      "Requirement already satisfied: httpx<1,>=0.23.0 in /Users/aprajita/Desktop/LLM_RAG/local-rag-system/.venv/lib/python3.9/site-packages (from langsmith>=0.3.45->langchain-core<0.4.0,>=0.3.68->langchain-google-genai) (0.27.2)\r\n",
      "Requirement already satisfied: orjson<4.0.0,>=3.9.14 in /Users/aprajita/Desktop/LLM_RAG/local-rag-system/.venv/lib/python3.9/site-packages (from langsmith>=0.3.45->langchain-core<0.4.0,>=0.3.68->langchain-google-genai) (3.11.1)\r\n",
      "Requirement already satisfied: requests-toolbelt<2.0.0,>=1.0.0 in /Users/aprajita/Desktop/LLM_RAG/local-rag-system/.venv/lib/python3.9/site-packages (from langsmith>=0.3.45->langchain-core<0.4.0,>=0.3.68->langchain-google-genai) (1.0.0)\r\n",
      "Requirement already satisfied: zstandard<0.24.0,>=0.23.0 in /Users/aprajita/Desktop/LLM_RAG/local-rag-system/.venv/lib/python3.9/site-packages (from langsmith>=0.3.45->langchain-core<0.4.0,>=0.3.68->langchain-google-genai) (0.23.0)\r\n",
      "Collecting protobuf!=4.21.0,!=4.21.1,!=4.21.2,!=4.21.3,!=4.21.4,!=4.21.5,<7.0.0,>=3.20.2 (from google-ai-generativelanguage<0.7.0,>=0.6.18->langchain-google-genai)\r\n",
      "  Obtaining dependency information for protobuf!=4.21.0,!=4.21.1,!=4.21.2,!=4.21.3,!=4.21.4,!=4.21.5,<7.0.0,>=3.20.2 from https://files.pythonhosted.org/packages/6a/c9/b9689a2a250264a84e66c46d8862ba788ee7a641cdca39bccf64f59284b7/protobuf-6.31.1-cp39-abi3-macosx_10_9_universal2.whl.metadata\r\n",
      "  Using cached protobuf-6.31.1-cp39-abi3-macosx_10_9_universal2.whl.metadata (593 bytes)\r\n",
      "Requirement already satisfied: anyio in /Users/aprajita/Desktop/LLM_RAG/local-rag-system/.venv/lib/python3.9/site-packages (from httpx<1,>=0.23.0->langsmith>=0.3.45->langchain-core<0.4.0,>=0.3.68->langchain-google-genai) (4.9.0)\r\n",
      "Requirement already satisfied: certifi in /Users/aprajita/Desktop/LLM_RAG/local-rag-system/.venv/lib/python3.9/site-packages (from httpx<1,>=0.23.0->langsmith>=0.3.45->langchain-core<0.4.0,>=0.3.68->langchain-google-genai) (2025.6.15)\r\n",
      "Requirement already satisfied: httpcore==1.* in /Users/aprajita/Desktop/LLM_RAG/local-rag-system/.venv/lib/python3.9/site-packages (from httpx<1,>=0.23.0->langsmith>=0.3.45->langchain-core<0.4.0,>=0.3.68->langchain-google-genai) (1.0.9)\r\n",
      "Requirement already satisfied: idna in /Users/aprajita/Desktop/LLM_RAG/local-rag-system/.venv/lib/python3.9/site-packages (from httpx<1,>=0.23.0->langsmith>=0.3.45->langchain-core<0.4.0,>=0.3.68->langchain-google-genai) (3.10)\r\n",
      "Requirement already satisfied: sniffio in /Users/aprajita/Desktop/LLM_RAG/local-rag-system/.venv/lib/python3.9/site-packages (from httpx<1,>=0.23.0->langsmith>=0.3.45->langchain-core<0.4.0,>=0.3.68->langchain-google-genai) (1.3.1)\r\n",
      "Requirement already satisfied: h11>=0.16 in /Users/aprajita/Desktop/LLM_RAG/local-rag-system/.venv/lib/python3.9/site-packages (from httpcore==1.*->httpx<1,>=0.23.0->langsmith>=0.3.45->langchain-core<0.4.0,>=0.3.68->langchain-google-genai) (0.16.0)\r\n",
      "Collecting pyasn1<0.7.0,>=0.6.1 (from pyasn1-modules>=0.2.1->google-auth!=2.24.0,!=2.25.0,<3.0.0,>=2.14.1->google-ai-generativelanguage<0.7.0,>=0.6.18->langchain-google-genai)\r\n",
      "  Obtaining dependency information for pyasn1<0.7.0,>=0.6.1 from https://files.pythonhosted.org/packages/c8/f1/d6a797abb14f6283c0ddff96bbdd46937f64122b8c925cab503dd37f8214/pyasn1-0.6.1-py3-none-any.whl.metadata\r\n",
      "  Downloading pyasn1-0.6.1-py3-none-any.whl.metadata (8.4 kB)\r\n",
      "Requirement already satisfied: charset-normalizer<4,>=2 in /Users/aprajita/Desktop/LLM_RAG/local-rag-system/.venv/lib/python3.9/site-packages (from requests<3.0.0,>=2.18.0->google-api-core[grpc]!=2.0.*,!=2.1.*,!=2.10.*,!=2.2.*,!=2.3.*,!=2.4.*,!=2.5.*,!=2.6.*,!=2.7.*,!=2.8.*,!=2.9.*,<3.0.0,>=1.34.1->google-ai-generativelanguage<0.7.0,>=0.6.18->langchain-google-genai) (3.4.2)\r\n",
      "Requirement already satisfied: urllib3<3,>=1.21.1 in /Users/aprajita/Desktop/LLM_RAG/local-rag-system/.venv/lib/python3.9/site-packages (from requests<3.0.0,>=2.18.0->google-api-core[grpc]!=2.0.*,!=2.1.*,!=2.10.*,!=2.2.*,!=2.3.*,!=2.4.*,!=2.5.*,!=2.6.*,!=2.7.*,!=2.8.*,!=2.9.*,<3.0.0,>=1.34.1->google-ai-generativelanguage<0.7.0,>=0.6.18->langchain-google-genai) (1.26.20)\r\n",
      "Requirement already satisfied: exceptiongroup>=1.0.2 in /Users/aprajita/Desktop/LLM_RAG/local-rag-system/.venv/lib/python3.9/site-packages (from anyio->httpx<1,>=0.23.0->langsmith>=0.3.45->langchain-core<0.4.0,>=0.3.68->langchain-google-genai) (1.3.0)\r\n",
      "Downloading langchain_google_genai-2.1.8-py3-none-any.whl (47 kB)\r\n",
      "\u001B[2K   \u001B[90m━━━━━━━━━━━━━━━━━━━━━━━━━━━━━━━━━━━━━━━━\u001B[0m \u001B[32m47.8/47.8 kB\u001B[0m \u001B[31m1.7 MB/s\u001B[0m eta \u001B[36m0:00:00\u001B[0m\r\n",
      "\u001B[?25hDownloading filetype-1.2.0-py2.py3-none-any.whl (19 kB)\r\n",
      "Downloading google_ai_generativelanguage-0.6.18-py3-none-any.whl (1.4 MB)\r\n",
      "\u001B[2K   \u001B[90m━━━━━━━━━━━━━━━━━━━━━━━━━━━━━━━━━━━━━━━━\u001B[0m \u001B[32m1.4/1.4 MB\u001B[0m \u001B[31m2.6 MB/s\u001B[0m eta \u001B[36m0:00:00\u001B[0m00:01\u001B[0m00:01\u001B[0m\r\n",
      "\u001B[?25hDownloading google_auth-2.40.3-py2.py3-none-any.whl (216 kB)\r\n",
      "\u001B[2K   \u001B[90m━━━━━━━━━━━━━━━━━━━━━━━━━━━━━━━━━━━━━━━━\u001B[0m \u001B[32m216.1/216.1 kB\u001B[0m \u001B[31m3.1 MB/s\u001B[0m eta \u001B[36m0:00:00\u001B[0ma \u001B[36m0:00:01\u001B[0m\r\n",
      "\u001B[?25hDownloading proto_plus-1.26.1-py3-none-any.whl (50 kB)\r\n",
      "\u001B[2K   \u001B[90m━━━━━━━━━━━━━━━━━━━━━━━━━━━━━━━━━━━━━━━━\u001B[0m \u001B[32m50.2/50.2 kB\u001B[0m \u001B[31m3.0 MB/s\u001B[0m eta \u001B[36m0:00:00\u001B[0m\r\n",
      "\u001B[?25hDownloading googleapis_common_protos-1.70.0-py3-none-any.whl (294 kB)\r\n",
      "\u001B[2K   \u001B[90m━━━━━━━━━━━━━━━━━━━━━━━━━━━━━━━━━━━━━━━━\u001B[0m \u001B[32m294.5/294.5 kB\u001B[0m \u001B[31m3.5 MB/s\u001B[0m eta \u001B[36m0:00:00\u001B[0ma \u001B[36m0:00:01\u001B[0m\r\n",
      "\u001B[?25hDownloading grpcio-1.74.0-cp39-cp39-macosx_11_0_universal2.whl (11.0 MB)\r\n",
      "\u001B[2K   \u001B[90m━━━━━━━━━━━━━━━━━━━━━━━━━━━━━━━━━━━━━━━━\u001B[0m \u001B[32m11.0/11.0 MB\u001B[0m \u001B[31m5.9 MB/s\u001B[0m eta \u001B[36m0:00:00\u001B[0m00:01\u001B[0m00:01\u001B[0m\r\n",
      "\u001B[?25hDownloading grpcio_status-1.74.0-py3-none-any.whl (14 kB)\r\n",
      "Using cached protobuf-6.31.1-cp39-abi3-macosx_10_9_universal2.whl (425 kB)\r\n",
      "Downloading pyasn1_modules-0.4.2-py3-none-any.whl (181 kB)\r\n",
      "\u001B[2K   \u001B[90m━━━━━━━━━━━━━━━━━━━━━━━━━━━━━━━━━━━━━━━━\u001B[0m \u001B[32m181.3/181.3 kB\u001B[0m \u001B[31m6.5 MB/s\u001B[0m eta \u001B[36m0:00:00\u001B[0m\r\n",
      "\u001B[?25hDownloading rsa-4.9.1-py3-none-any.whl (34 kB)\r\n",
      "Downloading google_api_core-2.25.1-py3-none-any.whl (160 kB)\r\n",
      "\u001B[2K   \u001B[90m━━━━━━━━━━━━━━━━━━━━━━━━━━━━━━━━━━━━━━━━\u001B[0m \u001B[32m160.8/160.8 kB\u001B[0m \u001B[31m6.6 MB/s\u001B[0m eta \u001B[36m0:00:00\u001B[0m\r\n",
      "\u001B[?25hDownloading pyasn1-0.6.1-py3-none-any.whl (83 kB)\r\n",
      "\u001B[2K   \u001B[90m━━━━━━━━━━━━━━━━━━━━━━━━━━━━━━━━━━━━━━━━\u001B[0m \u001B[32m83.1/83.1 kB\u001B[0m \u001B[31m6.3 MB/s\u001B[0m eta \u001B[36m0:00:00\u001B[0m\r\n",
      "\u001B[?25hInstalling collected packages: filetype, pyasn1, protobuf, grpcio, rsa, pyasn1-modules, proto-plus, googleapis-common-protos, grpcio-status, google-auth, google-api-core, google-ai-generativelanguage, langchain-google-genai\r\n",
      "  Attempting uninstall: protobuf\r\n",
      "    Found existing installation: protobuf 5.29.5\r\n",
      "    Uninstalling protobuf-5.29.5:\r\n",
      "      Successfully uninstalled protobuf-5.29.5\r\n",
      "\u001B[31mERROR: pip's dependency resolver does not currently take into account all the packages that are installed. This behaviour is the source of the following dependency conflicts.\r\n",
      "streamlit 1.39.0 requires protobuf<6,>=3.20, but you have protobuf 6.31.1 which is incompatible.\u001B[0m\u001B[31m\r\n",
      "\u001B[0mSuccessfully installed filetype-1.2.0 google-ai-generativelanguage-0.6.18 google-api-core-2.25.1 google-auth-2.40.3 googleapis-common-protos-1.70.0 grpcio-1.74.0 grpcio-status-1.74.0 langchain-google-genai-2.1.8 proto-plus-1.26.1 protobuf-6.31.1 pyasn1-0.6.1 pyasn1-modules-0.4.2 rsa-4.9.1\r\n",
      "\r\n",
      "\u001B[1m[\u001B[0m\u001B[34;49mnotice\u001B[0m\u001B[1;39;49m]\u001B[0m\u001B[39;49m A new release of pip is available: \u001B[0m\u001B[31;49m23.2.1\u001B[0m\u001B[39;49m -> \u001B[0m\u001B[32;49m25.1.1\u001B[0m\r\n",
      "\u001B[1m[\u001B[0m\u001B[34;49mnotice\u001B[0m\u001B[1;39;49m]\u001B[0m\u001B[39;49m To update, run: \u001B[0m\u001B[32;49mpip install --upgrade pip\u001B[0m\r\n",
      "Note: you may need to restart the kernel to use updated packages.\n"
     ]
    }
   ],
   "execution_count": 3
  },
  {
   "metadata": {
    "ExecuteTime": {
     "end_time": "2025-07-28T09:06:23.174396Z",
     "start_time": "2025-07-28T09:06:20.047580Z"
    }
   },
   "cell_type": "code",
   "source": "%pip install numexpr",
   "id": "186301484d2460e1",
   "outputs": [
    {
     "name": "stdout",
     "output_type": "stream",
     "text": [
      "Collecting numexpr\r\n",
      "  Obtaining dependency information for numexpr from https://files.pythonhosted.org/packages/bb/c5/9ecfa0da1d93d57e3f447d10da8cf6d695c93131cec085625e5092b37631/numexpr-2.10.2-cp39-cp39-macosx_11_0_arm64.whl.metadata\r\n",
      "  Downloading numexpr-2.10.2-cp39-cp39-macosx_11_0_arm64.whl.metadata (8.1 kB)\r\n",
      "Requirement already satisfied: numpy>=1.23.0 in /Users/aprajita/Desktop/LLM_RAG/local-rag-system/.venv/lib/python3.9/site-packages (from numexpr) (2.0.2)\r\n",
      "Downloading numexpr-2.10.2-cp39-cp39-macosx_11_0_arm64.whl (134 kB)\r\n",
      "\u001B[2K   \u001B[90m━━━━━━━━━━━━━━━━━━━━━━━━━━━━━━━━━━━━━━━━\u001B[0m \u001B[32m134.8/134.8 kB\u001B[0m \u001B[31m3.7 MB/s\u001B[0m eta \u001B[36m0:00:00\u001B[0m\r\n",
      "\u001B[?25hInstalling collected packages: numexpr\r\n",
      "Successfully installed numexpr-2.10.2\r\n",
      "\r\n",
      "\u001B[1m[\u001B[0m\u001B[34;49mnotice\u001B[0m\u001B[1;39;49m]\u001B[0m\u001B[39;49m A new release of pip is available: \u001B[0m\u001B[31;49m23.2.1\u001B[0m\u001B[39;49m -> \u001B[0m\u001B[32;49m25.1.1\u001B[0m\r\n",
      "\u001B[1m[\u001B[0m\u001B[34;49mnotice\u001B[0m\u001B[1;39;49m]\u001B[0m\u001B[39;49m To update, run: \u001B[0m\u001B[32;49mpip install --upgrade pip\u001B[0m\r\n",
      "Note: you may need to restart the kernel to use updated packages.\n"
     ]
    }
   ],
   "execution_count": 3
  },
  {
   "metadata": {
    "ExecuteTime": {
     "end_time": "2025-07-28T09:02:20.402141Z",
     "start_time": "2025-07-28T09:02:14.994386Z"
    }
   },
   "cell_type": "code",
   "source": [
    "import os\n",
    "from getpass import getpass\n",
    "\n",
    "if \"GOOGLE_API_KEY\" not in os.environ:\n",
    "    print(\"GOOGLE_API_KEY not found in environment!\")\n",
    "    api_key = getpass(\"Please enter your GOOGLE_API_KEY: \")\n",
    "    os.environ[\"GOOGLE_API_KEY\"] = api_key\n",
    "    print(\"GOOGLE_API_KEY set for this session!\")\n",
    "else:\n",
    "    print(\"GOOGLE_API_KEY found in environment.\")"
   ],
   "id": "d2217b79b2891b57",
   "outputs": [
    {
     "name": "stdout",
     "output_type": "stream",
     "text": [
      "GOOGLE_API_KEY not found in environment!\n",
      "GOOGLE_API_KEY set for this session!\n"
     ]
    }
   ],
   "execution_count": 1
  },
  {
   "metadata": {
    "ExecuteTime": {
     "end_time": "2025-07-28T09:07:54.534235Z",
     "start_time": "2025-07-28T09:07:49.522545Z"
    }
   },
   "cell_type": "code",
   "source": [
    "# Import all necessary modules\n",
    "from langchain_google_genai import ChatGoogleGenerativeAI\n",
    "from langchain.agents import tool, AgentExecutor, create_tool_calling_agent\n",
    "from langchain.chains import LLMMathChain\n",
    "from langchain_core.prompts import ChatPromptTemplate\n",
    "\n",
    "\n",
    "\n",
    "llm = ChatGoogleGenerativeAI(model=\"gemini-2.5-pro-latest\", temperature=0)\n",
    "\n",
    "\n",
    "math_chain = LLMMathChain.from_llm(llm=llm)\n",
    "\n",
    "@tool\n",
    "def calculator(query: str) -> str:\n",
    "    \"\"\"Use this tool to solve math problems.\"\"\"\n",
    "    return math_chain.run(query)\n",
    "\n",
    "tools = [calculator]\n",
    "\n",
    "# 3. Create the agent's prompt template\n",
    "prompt = ChatPromptTemplate.from_messages([\n",
    "    (\"system\", \"You are a helpful assistant that solves math problems.\"),\n",
    "    (\"human\", \"{input}\"),\n",
    "    (\"placeholder\", \"{agent_scratchpad}\"),\n",
    "])\n",
    "\n",
    "# 4. Create the agent and the executor that runs it\n",
    "agent = create_tool_calling_agent(llm, tools, prompt)\n",
    "agent_executor = AgentExecutor(agent=agent, tools=tools, verbose=True)\n",
    "\n",
    "# 5. Run the agent with a math problem\n",
    "print(\"--- Running Agent ---\")\n",
    "response = agent_executor.invoke({\n",
    "    \"input\": \"I have 5 apples and my friend has 3 times as many. If we combine our apples and then eat 2, how many apples are left?\"\n",
    "})\n",
    "\n",
    "# 6. Print the final answer\n",
    "print(\"\\n--- Final Answer ---\")\n",
    "print(response[\"output\"])"
   ],
   "id": "2eb4cc0bfeec51ae",
   "outputs": [
    {
     "ename": "DefaultCredentialsError",
     "evalue": "Your default credentials were not found. To set up Application Default Credentials, see https://cloud.google.com/docs/authentication/external/set-up-adc for more information.",
     "output_type": "error",
     "traceback": [
      "\u001B[0;31m---------------------------------------------------------------------------\u001B[0m",
      "\u001B[0;31mDefaultCredentialsError\u001B[0m                   Traceback (most recent call last)",
      "Cell \u001B[0;32mIn[1], line 9\u001B[0m\n\u001B[1;32m      4\u001B[0m \u001B[38;5;28;01mfrom\u001B[39;00m\u001B[38;5;250m \u001B[39m\u001B[38;5;21;01mlangchain\u001B[39;00m\u001B[38;5;21;01m.\u001B[39;00m\u001B[38;5;21;01mchains\u001B[39;00m\u001B[38;5;250m \u001B[39m\u001B[38;5;28;01mimport\u001B[39;00m LLMMathChain\n\u001B[1;32m      5\u001B[0m \u001B[38;5;28;01mfrom\u001B[39;00m\u001B[38;5;250m \u001B[39m\u001B[38;5;21;01mlangchain_core\u001B[39;00m\u001B[38;5;21;01m.\u001B[39;00m\u001B[38;5;21;01mprompts\u001B[39;00m\u001B[38;5;250m \u001B[39m\u001B[38;5;28;01mimport\u001B[39;00m ChatPromptTemplate\n\u001B[0;32m----> 9\u001B[0m llm \u001B[38;5;241m=\u001B[39m \u001B[43mChatGoogleGenerativeAI\u001B[49m\u001B[43m(\u001B[49m\u001B[43mmodel\u001B[49m\u001B[38;5;241;43m=\u001B[39;49m\u001B[38;5;124;43m\"\u001B[39;49m\u001B[38;5;124;43mgemini-2.5-pro-latest\u001B[39;49m\u001B[38;5;124;43m\"\u001B[39;49m\u001B[43m,\u001B[49m\u001B[43m \u001B[49m\u001B[43mtemperature\u001B[49m\u001B[38;5;241;43m=\u001B[39;49m\u001B[38;5;241;43m0\u001B[39;49m\u001B[43m)\u001B[49m\n\u001B[1;32m     11\u001B[0m \u001B[38;5;66;03m# 2. Define the calculator tool\u001B[39;00m\n\u001B[1;32m     12\u001B[0m math_chain \u001B[38;5;241m=\u001B[39m LLMMathChain\u001B[38;5;241m.\u001B[39mfrom_llm(llm\u001B[38;5;241m=\u001B[39mllm)\n",
      "File \u001B[0;32m~/Desktop/LLM_RAG/local-rag-system/.venv/lib/python3.9/site-packages/langchain_google_genai/chat_models.py:1189\u001B[0m, in \u001B[0;36mChatGoogleGenerativeAI.__init__\u001B[0;34m(self, **kwargs)\u001B[0m\n\u001B[1;32m   1182\u001B[0m         suggestion \u001B[38;5;241m=\u001B[39m (\n\u001B[1;32m   1183\u001B[0m             \u001B[38;5;124mf\u001B[39m\u001B[38;5;124m\"\u001B[39m\u001B[38;5;124m Did you mean: \u001B[39m\u001B[38;5;124m'\u001B[39m\u001B[38;5;132;01m{\u001B[39;00msuggestions[\u001B[38;5;241m0\u001B[39m]\u001B[38;5;132;01m}\u001B[39;00m\u001B[38;5;124m'\u001B[39m\u001B[38;5;124m?\u001B[39m\u001B[38;5;124m\"\u001B[39m \u001B[38;5;28;01mif\u001B[39;00m suggestions \u001B[38;5;28;01melse\u001B[39;00m \u001B[38;5;124m\"\u001B[39m\u001B[38;5;124m\"\u001B[39m\n\u001B[1;32m   1184\u001B[0m         )\n\u001B[1;32m   1185\u001B[0m         logger\u001B[38;5;241m.\u001B[39mwarning(\n\u001B[1;32m   1186\u001B[0m             \u001B[38;5;124mf\u001B[39m\u001B[38;5;124m\"\u001B[39m\u001B[38;5;124mUnexpected argument \u001B[39m\u001B[38;5;124m'\u001B[39m\u001B[38;5;132;01m{\u001B[39;00marg\u001B[38;5;132;01m}\u001B[39;00m\u001B[38;5;124m'\u001B[39m\u001B[38;5;124m \u001B[39m\u001B[38;5;124m\"\u001B[39m\n\u001B[1;32m   1187\u001B[0m             \u001B[38;5;124mf\u001B[39m\u001B[38;5;124m\"\u001B[39m\u001B[38;5;124mprovided to ChatGoogleGenerativeAI.\u001B[39m\u001B[38;5;132;01m{\u001B[39;00msuggestion\u001B[38;5;132;01m}\u001B[39;00m\u001B[38;5;124m\"\u001B[39m\n\u001B[1;32m   1188\u001B[0m         )\n\u001B[0;32m-> 1189\u001B[0m \u001B[38;5;28;43msuper\u001B[39;49m\u001B[43m(\u001B[49m\u001B[43m)\u001B[49m\u001B[38;5;241;43m.\u001B[39;49m\u001B[38;5;21;43m__init__\u001B[39;49m\u001B[43m(\u001B[49m\u001B[38;5;241;43m*\u001B[39;49m\u001B[38;5;241;43m*\u001B[39;49m\u001B[43mkwargs\u001B[49m\u001B[43m)\u001B[49m\n",
      "File \u001B[0;32m~/Desktop/LLM_RAG/local-rag-system/.venv/lib/python3.9/site-packages/langchain_core/load/serializable.py:130\u001B[0m, in \u001B[0;36mSerializable.__init__\u001B[0;34m(self, *args, **kwargs)\u001B[0m\n\u001B[1;32m    128\u001B[0m \u001B[38;5;28;01mdef\u001B[39;00m\u001B[38;5;250m \u001B[39m\u001B[38;5;21m__init__\u001B[39m(\u001B[38;5;28mself\u001B[39m, \u001B[38;5;241m*\u001B[39margs: Any, \u001B[38;5;241m*\u001B[39m\u001B[38;5;241m*\u001B[39mkwargs: Any) \u001B[38;5;241m-\u001B[39m\u001B[38;5;241m>\u001B[39m \u001B[38;5;28;01mNone\u001B[39;00m:\n\u001B[1;32m    129\u001B[0m \u001B[38;5;250m    \u001B[39m\u001B[38;5;124;03m\"\"\"\"\"\"\u001B[39;00m  \u001B[38;5;66;03m# noqa: D419\u001B[39;00m\n\u001B[0;32m--> 130\u001B[0m     \u001B[38;5;28;43msuper\u001B[39;49m\u001B[43m(\u001B[49m\u001B[43m)\u001B[49m\u001B[38;5;241;43m.\u001B[39;49m\u001B[38;5;21;43m__init__\u001B[39;49m\u001B[43m(\u001B[49m\u001B[38;5;241;43m*\u001B[39;49m\u001B[43margs\u001B[49m\u001B[43m,\u001B[49m\u001B[43m \u001B[49m\u001B[38;5;241;43m*\u001B[39;49m\u001B[38;5;241;43m*\u001B[39;49m\u001B[43mkwargs\u001B[49m\u001B[43m)\u001B[49m\n",
      "    \u001B[0;31m[... skipping hidden 1 frame]\u001B[0m\n",
      "File \u001B[0;32m~/Desktop/LLM_RAG/local-rag-system/.venv/lib/python3.9/site-packages/langchain_google_genai/chat_models.py:1248\u001B[0m, in \u001B[0;36mChatGoogleGenerativeAI.validate_environment\u001B[0;34m(self)\u001B[0m\n\u001B[1;32m   1246\u001B[0m         google_api_key \u001B[38;5;241m=\u001B[39m \u001B[38;5;28mself\u001B[39m\u001B[38;5;241m.\u001B[39mgoogle_api_key\n\u001B[1;32m   1247\u001B[0m transport: Optional[\u001B[38;5;28mstr\u001B[39m] \u001B[38;5;241m=\u001B[39m \u001B[38;5;28mself\u001B[39m\u001B[38;5;241m.\u001B[39mtransport\n\u001B[0;32m-> 1248\u001B[0m \u001B[38;5;28mself\u001B[39m\u001B[38;5;241m.\u001B[39mclient \u001B[38;5;241m=\u001B[39m \u001B[43mgenaix\u001B[49m\u001B[38;5;241;43m.\u001B[39;49m\u001B[43mbuild_generative_service\u001B[49m\u001B[43m(\u001B[49m\n\u001B[1;32m   1249\u001B[0m \u001B[43m    \u001B[49m\u001B[43mcredentials\u001B[49m\u001B[38;5;241;43m=\u001B[39;49m\u001B[38;5;28;43mself\u001B[39;49m\u001B[38;5;241;43m.\u001B[39;49m\u001B[43mcredentials\u001B[49m\u001B[43m,\u001B[49m\n\u001B[1;32m   1250\u001B[0m \u001B[43m    \u001B[49m\u001B[43mapi_key\u001B[49m\u001B[38;5;241;43m=\u001B[39;49m\u001B[43mgoogle_api_key\u001B[49m\u001B[43m,\u001B[49m\n\u001B[1;32m   1251\u001B[0m \u001B[43m    \u001B[49m\u001B[43mclient_info\u001B[49m\u001B[38;5;241;43m=\u001B[39;49m\u001B[43mclient_info\u001B[49m\u001B[43m,\u001B[49m\n\u001B[1;32m   1252\u001B[0m \u001B[43m    \u001B[49m\u001B[43mclient_options\u001B[49m\u001B[38;5;241;43m=\u001B[39;49m\u001B[38;5;28;43mself\u001B[39;49m\u001B[38;5;241;43m.\u001B[39;49m\u001B[43mclient_options\u001B[49m\u001B[43m,\u001B[49m\n\u001B[1;32m   1253\u001B[0m \u001B[43m    \u001B[49m\u001B[43mtransport\u001B[49m\u001B[38;5;241;43m=\u001B[39;49m\u001B[43mtransport\u001B[49m\u001B[43m,\u001B[49m\n\u001B[1;32m   1254\u001B[0m \u001B[43m\u001B[49m\u001B[43m)\u001B[49m\n\u001B[1;32m   1255\u001B[0m \u001B[38;5;28mself\u001B[39m\u001B[38;5;241m.\u001B[39masync_client_running \u001B[38;5;241m=\u001B[39m \u001B[38;5;28;01mNone\u001B[39;00m\n\u001B[1;32m   1256\u001B[0m \u001B[38;5;28;01mreturn\u001B[39;00m \u001B[38;5;28mself\u001B[39m\n",
      "File \u001B[0;32m~/Desktop/LLM_RAG/local-rag-system/.venv/lib/python3.9/site-packages/langchain_google_genai/_genai_extension.py:276\u001B[0m, in \u001B[0;36mbuild_generative_service\u001B[0;34m(credentials, api_key, client_options, client_info, transport)\u001B[0m\n\u001B[1;32m    262\u001B[0m \u001B[38;5;28;01mdef\u001B[39;00m\u001B[38;5;250m \u001B[39m\u001B[38;5;21mbuild_generative_service\u001B[39m(\n\u001B[1;32m    263\u001B[0m     credentials: Optional[credentials\u001B[38;5;241m.\u001B[39mCredentials] \u001B[38;5;241m=\u001B[39m \u001B[38;5;28;01mNone\u001B[39;00m,\n\u001B[1;32m    264\u001B[0m     api_key: Optional[\u001B[38;5;28mstr\u001B[39m] \u001B[38;5;241m=\u001B[39m \u001B[38;5;28;01mNone\u001B[39;00m,\n\u001B[0;32m   (...)\u001B[0m\n\u001B[1;32m    267\u001B[0m     transport: Optional[\u001B[38;5;28mstr\u001B[39m] \u001B[38;5;241m=\u001B[39m \u001B[38;5;28;01mNone\u001B[39;00m,\n\u001B[1;32m    268\u001B[0m ) \u001B[38;5;241m-\u001B[39m\u001B[38;5;241m>\u001B[39m v1betaGenerativeServiceClient:\n\u001B[1;32m    269\u001B[0m     config \u001B[38;5;241m=\u001B[39m _prepare_config(\n\u001B[1;32m    270\u001B[0m         credentials\u001B[38;5;241m=\u001B[39mcredentials,\n\u001B[1;32m    271\u001B[0m         api_key\u001B[38;5;241m=\u001B[39mapi_key,\n\u001B[0;32m   (...)\u001B[0m\n\u001B[1;32m    274\u001B[0m         client_info\u001B[38;5;241m=\u001B[39mclient_info,\n\u001B[1;32m    275\u001B[0m     )\n\u001B[0;32m--> 276\u001B[0m     \u001B[38;5;28;01mreturn\u001B[39;00m \u001B[43mv1betaGenerativeServiceClient\u001B[49m\u001B[43m(\u001B[49m\u001B[38;5;241;43m*\u001B[39;49m\u001B[38;5;241;43m*\u001B[39;49m\u001B[43mconfig\u001B[49m\u001B[43m)\u001B[49m\n",
      "File \u001B[0;32m~/Desktop/LLM_RAG/local-rag-system/.venv/lib/python3.9/site-packages/google/ai/generativelanguage_v1beta/services/generative_service/client.py:697\u001B[0m, in \u001B[0;36mGenerativeServiceClient.__init__\u001B[0;34m(self, credentials, transport, client_options, client_info)\u001B[0m\n\u001B[1;32m    688\u001B[0m     transport_init: Union[\n\u001B[1;32m    689\u001B[0m         Type[GenerativeServiceTransport],\n\u001B[1;32m    690\u001B[0m         Callable[\u001B[38;5;241m.\u001B[39m\u001B[38;5;241m.\u001B[39m\u001B[38;5;241m.\u001B[39m, GenerativeServiceTransport],\n\u001B[0;32m   (...)\u001B[0m\n\u001B[1;32m    694\u001B[0m         \u001B[38;5;28;01melse\u001B[39;00m cast(Callable[\u001B[38;5;241m.\u001B[39m\u001B[38;5;241m.\u001B[39m\u001B[38;5;241m.\u001B[39m, GenerativeServiceTransport], transport)\n\u001B[1;32m    695\u001B[0m     )\n\u001B[1;32m    696\u001B[0m     \u001B[38;5;66;03m# initialize with the provided callable or the passed in class\u001B[39;00m\n\u001B[0;32m--> 697\u001B[0m     \u001B[38;5;28mself\u001B[39m\u001B[38;5;241m.\u001B[39m_transport \u001B[38;5;241m=\u001B[39m \u001B[43mtransport_init\u001B[49m\u001B[43m(\u001B[49m\n\u001B[1;32m    698\u001B[0m \u001B[43m        \u001B[49m\u001B[43mcredentials\u001B[49m\u001B[38;5;241;43m=\u001B[39;49m\u001B[43mcredentials\u001B[49m\u001B[43m,\u001B[49m\n\u001B[1;32m    699\u001B[0m \u001B[43m        \u001B[49m\u001B[43mcredentials_file\u001B[49m\u001B[38;5;241;43m=\u001B[39;49m\u001B[38;5;28;43mself\u001B[39;49m\u001B[38;5;241;43m.\u001B[39;49m\u001B[43m_client_options\u001B[49m\u001B[38;5;241;43m.\u001B[39;49m\u001B[43mcredentials_file\u001B[49m\u001B[43m,\u001B[49m\n\u001B[1;32m    700\u001B[0m \u001B[43m        \u001B[49m\u001B[43mhost\u001B[49m\u001B[38;5;241;43m=\u001B[39;49m\u001B[38;5;28;43mself\u001B[39;49m\u001B[38;5;241;43m.\u001B[39;49m\u001B[43m_api_endpoint\u001B[49m\u001B[43m,\u001B[49m\n\u001B[1;32m    701\u001B[0m \u001B[43m        \u001B[49m\u001B[43mscopes\u001B[49m\u001B[38;5;241;43m=\u001B[39;49m\u001B[38;5;28;43mself\u001B[39;49m\u001B[38;5;241;43m.\u001B[39;49m\u001B[43m_client_options\u001B[49m\u001B[38;5;241;43m.\u001B[39;49m\u001B[43mscopes\u001B[49m\u001B[43m,\u001B[49m\n\u001B[1;32m    702\u001B[0m \u001B[43m        \u001B[49m\u001B[43mclient_cert_source_for_mtls\u001B[49m\u001B[38;5;241;43m=\u001B[39;49m\u001B[38;5;28;43mself\u001B[39;49m\u001B[38;5;241;43m.\u001B[39;49m\u001B[43m_client_cert_source\u001B[49m\u001B[43m,\u001B[49m\n\u001B[1;32m    703\u001B[0m \u001B[43m        \u001B[49m\u001B[43mquota_project_id\u001B[49m\u001B[38;5;241;43m=\u001B[39;49m\u001B[38;5;28;43mself\u001B[39;49m\u001B[38;5;241;43m.\u001B[39;49m\u001B[43m_client_options\u001B[49m\u001B[38;5;241;43m.\u001B[39;49m\u001B[43mquota_project_id\u001B[49m\u001B[43m,\u001B[49m\n\u001B[1;32m    704\u001B[0m \u001B[43m        \u001B[49m\u001B[43mclient_info\u001B[49m\u001B[38;5;241;43m=\u001B[39;49m\u001B[43mclient_info\u001B[49m\u001B[43m,\u001B[49m\n\u001B[1;32m    705\u001B[0m \u001B[43m        \u001B[49m\u001B[43malways_use_jwt_access\u001B[49m\u001B[38;5;241;43m=\u001B[39;49m\u001B[38;5;28;43;01mTrue\u001B[39;49;00m\u001B[43m,\u001B[49m\n\u001B[1;32m    706\u001B[0m \u001B[43m        \u001B[49m\u001B[43mapi_audience\u001B[49m\u001B[38;5;241;43m=\u001B[39;49m\u001B[38;5;28;43mself\u001B[39;49m\u001B[38;5;241;43m.\u001B[39;49m\u001B[43m_client_options\u001B[49m\u001B[38;5;241;43m.\u001B[39;49m\u001B[43mapi_audience\u001B[49m\u001B[43m,\u001B[49m\n\u001B[1;32m    707\u001B[0m \u001B[43m    \u001B[49m\u001B[43m)\u001B[49m\n\u001B[1;32m    709\u001B[0m \u001B[38;5;28;01mif\u001B[39;00m \u001B[38;5;124m\"\u001B[39m\u001B[38;5;124masync\u001B[39m\u001B[38;5;124m\"\u001B[39m \u001B[38;5;129;01mnot\u001B[39;00m \u001B[38;5;129;01min\u001B[39;00m \u001B[38;5;28mstr\u001B[39m(\u001B[38;5;28mself\u001B[39m\u001B[38;5;241m.\u001B[39m_transport):\n\u001B[1;32m    710\u001B[0m     \u001B[38;5;28;01mif\u001B[39;00m CLIENT_LOGGING_SUPPORTED \u001B[38;5;129;01mand\u001B[39;00m _LOGGER\u001B[38;5;241m.\u001B[39misEnabledFor(\n\u001B[1;32m    711\u001B[0m         std_logging\u001B[38;5;241m.\u001B[39mDEBUG\n\u001B[1;32m    712\u001B[0m     ):  \u001B[38;5;66;03m# pragma: NO COVER\u001B[39;00m\n",
      "File \u001B[0;32m~/Desktop/LLM_RAG/local-rag-system/.venv/lib/python3.9/site-packages/google/ai/generativelanguage_v1beta/services/generative_service/transports/grpc.py:234\u001B[0m, in \u001B[0;36mGenerativeServiceGrpcTransport.__init__\u001B[0;34m(self, host, credentials, credentials_file, scopes, channel, api_mtls_endpoint, client_cert_source, ssl_channel_credentials, client_cert_source_for_mtls, quota_project_id, client_info, always_use_jwt_access, api_audience)\u001B[0m\n\u001B[1;32m    229\u001B[0m             \u001B[38;5;28mself\u001B[39m\u001B[38;5;241m.\u001B[39m_ssl_channel_credentials \u001B[38;5;241m=\u001B[39m grpc\u001B[38;5;241m.\u001B[39mssl_channel_credentials(\n\u001B[1;32m    230\u001B[0m                 certificate_chain\u001B[38;5;241m=\u001B[39mcert, private_key\u001B[38;5;241m=\u001B[39mkey\n\u001B[1;32m    231\u001B[0m             )\n\u001B[1;32m    233\u001B[0m \u001B[38;5;66;03m# The base transport sets the host, credentials and scopes\u001B[39;00m\n\u001B[0;32m--> 234\u001B[0m \u001B[38;5;28;43msuper\u001B[39;49m\u001B[43m(\u001B[49m\u001B[43m)\u001B[49m\u001B[38;5;241;43m.\u001B[39;49m\u001B[38;5;21;43m__init__\u001B[39;49m\u001B[43m(\u001B[49m\n\u001B[1;32m    235\u001B[0m \u001B[43m    \u001B[49m\u001B[43mhost\u001B[49m\u001B[38;5;241;43m=\u001B[39;49m\u001B[43mhost\u001B[49m\u001B[43m,\u001B[49m\n\u001B[1;32m    236\u001B[0m \u001B[43m    \u001B[49m\u001B[43mcredentials\u001B[49m\u001B[38;5;241;43m=\u001B[39;49m\u001B[43mcredentials\u001B[49m\u001B[43m,\u001B[49m\n\u001B[1;32m    237\u001B[0m \u001B[43m    \u001B[49m\u001B[43mcredentials_file\u001B[49m\u001B[38;5;241;43m=\u001B[39;49m\u001B[43mcredentials_file\u001B[49m\u001B[43m,\u001B[49m\n\u001B[1;32m    238\u001B[0m \u001B[43m    \u001B[49m\u001B[43mscopes\u001B[49m\u001B[38;5;241;43m=\u001B[39;49m\u001B[43mscopes\u001B[49m\u001B[43m,\u001B[49m\n\u001B[1;32m    239\u001B[0m \u001B[43m    \u001B[49m\u001B[43mquota_project_id\u001B[49m\u001B[38;5;241;43m=\u001B[39;49m\u001B[43mquota_project_id\u001B[49m\u001B[43m,\u001B[49m\n\u001B[1;32m    240\u001B[0m \u001B[43m    \u001B[49m\u001B[43mclient_info\u001B[49m\u001B[38;5;241;43m=\u001B[39;49m\u001B[43mclient_info\u001B[49m\u001B[43m,\u001B[49m\n\u001B[1;32m    241\u001B[0m \u001B[43m    \u001B[49m\u001B[43malways_use_jwt_access\u001B[49m\u001B[38;5;241;43m=\u001B[39;49m\u001B[43malways_use_jwt_access\u001B[49m\u001B[43m,\u001B[49m\n\u001B[1;32m    242\u001B[0m \u001B[43m    \u001B[49m\u001B[43mapi_audience\u001B[49m\u001B[38;5;241;43m=\u001B[39;49m\u001B[43mapi_audience\u001B[49m\u001B[43m,\u001B[49m\n\u001B[1;32m    243\u001B[0m \u001B[43m\u001B[49m\u001B[43m)\u001B[49m\n\u001B[1;32m    245\u001B[0m \u001B[38;5;28;01mif\u001B[39;00m \u001B[38;5;129;01mnot\u001B[39;00m \u001B[38;5;28mself\u001B[39m\u001B[38;5;241m.\u001B[39m_grpc_channel:\n\u001B[1;32m    246\u001B[0m     \u001B[38;5;66;03m# initialize with the provided callable or the default channel\u001B[39;00m\n\u001B[1;32m    247\u001B[0m     channel_init \u001B[38;5;241m=\u001B[39m channel \u001B[38;5;129;01mor\u001B[39;00m \u001B[38;5;28mtype\u001B[39m(\u001B[38;5;28mself\u001B[39m)\u001B[38;5;241m.\u001B[39mcreate_channel\n",
      "File \u001B[0;32m~/Desktop/LLM_RAG/local-rag-system/.venv/lib/python3.9/site-packages/google/ai/generativelanguage_v1beta/services/generative_service/transports/base.py:100\u001B[0m, in \u001B[0;36mGenerativeServiceTransport.__init__\u001B[0;34m(self, host, credentials, credentials_file, scopes, quota_project_id, client_info, always_use_jwt_access, api_audience, **kwargs)\u001B[0m\n\u001B[1;32m     96\u001B[0m     credentials, _ \u001B[38;5;241m=\u001B[39m google\u001B[38;5;241m.\u001B[39mauth\u001B[38;5;241m.\u001B[39mload_credentials_from_file(\n\u001B[1;32m     97\u001B[0m         credentials_file, \u001B[38;5;241m*\u001B[39m\u001B[38;5;241m*\u001B[39mscopes_kwargs, quota_project_id\u001B[38;5;241m=\u001B[39mquota_project_id\n\u001B[1;32m     98\u001B[0m     )\n\u001B[1;32m     99\u001B[0m \u001B[38;5;28;01melif\u001B[39;00m credentials \u001B[38;5;129;01mis\u001B[39;00m \u001B[38;5;28;01mNone\u001B[39;00m \u001B[38;5;129;01mand\u001B[39;00m \u001B[38;5;129;01mnot\u001B[39;00m \u001B[38;5;28mself\u001B[39m\u001B[38;5;241m.\u001B[39m_ignore_credentials:\n\u001B[0;32m--> 100\u001B[0m     credentials, _ \u001B[38;5;241m=\u001B[39m \u001B[43mgoogle\u001B[49m\u001B[38;5;241;43m.\u001B[39;49m\u001B[43mauth\u001B[49m\u001B[38;5;241;43m.\u001B[39;49m\u001B[43mdefault\u001B[49m\u001B[43m(\u001B[49m\n\u001B[1;32m    101\u001B[0m \u001B[43m        \u001B[49m\u001B[38;5;241;43m*\u001B[39;49m\u001B[38;5;241;43m*\u001B[39;49m\u001B[43mscopes_kwargs\u001B[49m\u001B[43m,\u001B[49m\u001B[43m \u001B[49m\u001B[43mquota_project_id\u001B[49m\u001B[38;5;241;43m=\u001B[39;49m\u001B[43mquota_project_id\u001B[49m\n\u001B[1;32m    102\u001B[0m \u001B[43m    \u001B[49m\u001B[43m)\u001B[49m\n\u001B[1;32m    103\u001B[0m     \u001B[38;5;66;03m# Don't apply audience if the credentials file passed from user.\u001B[39;00m\n\u001B[1;32m    104\u001B[0m     \u001B[38;5;28;01mif\u001B[39;00m \u001B[38;5;28mhasattr\u001B[39m(credentials, \u001B[38;5;124m\"\u001B[39m\u001B[38;5;124mwith_gdch_audience\u001B[39m\u001B[38;5;124m\"\u001B[39m):\n",
      "File \u001B[0;32m~/Desktop/LLM_RAG/local-rag-system/.venv/lib/python3.9/site-packages/google/auth/_default.py:685\u001B[0m, in \u001B[0;36mdefault\u001B[0;34m(scopes, request, quota_project_id, default_scopes)\u001B[0m\n\u001B[1;32m    677\u001B[0m             _LOGGER\u001B[38;5;241m.\u001B[39mwarning(\n\u001B[1;32m    678\u001B[0m                 \u001B[38;5;124m\"\u001B[39m\u001B[38;5;124mNo project ID could be determined. Consider running \u001B[39m\u001B[38;5;124m\"\u001B[39m\n\u001B[1;32m    679\u001B[0m                 \u001B[38;5;124m\"\u001B[39m\u001B[38;5;124m`gcloud config set project` or setting the \u001B[39m\u001B[38;5;132;01m%s\u001B[39;00m\u001B[38;5;124m \u001B[39m\u001B[38;5;124m\"\u001B[39m\n\u001B[1;32m    680\u001B[0m                 \u001B[38;5;124m\"\u001B[39m\u001B[38;5;124menvironment variable\u001B[39m\u001B[38;5;124m\"\u001B[39m,\n\u001B[1;32m    681\u001B[0m                 environment_vars\u001B[38;5;241m.\u001B[39mPROJECT,\n\u001B[1;32m    682\u001B[0m             )\n\u001B[1;32m    683\u001B[0m         \u001B[38;5;28;01mreturn\u001B[39;00m credentials, effective_project_id\n\u001B[0;32m--> 685\u001B[0m \u001B[38;5;28;01mraise\u001B[39;00m exceptions\u001B[38;5;241m.\u001B[39mDefaultCredentialsError(_CLOUD_SDK_MISSING_CREDENTIALS)\n",
      "\u001B[0;31mDefaultCredentialsError\u001B[0m: Your default credentials were not found. To set up Application Default Credentials, see https://cloud.google.com/docs/authentication/external/set-up-adc for more information."
     ]
    }
   ],
   "execution_count": 1
  }
 ],
 "metadata": {
  "kernelspec": {
   "display_name": "Python 3",
   "language": "python",
   "name": "python3"
  },
  "language_info": {
   "codemirror_mode": {
    "name": "ipython",
    "version": 2
   },
   "file_extension": ".py",
   "mimetype": "text/x-python",
   "name": "python",
   "nbconvert_exporter": "python",
   "pygments_lexer": "ipython2",
   "version": "2.7.6"
  }
 },
 "nbformat": 4,
 "nbformat_minor": 5
}
